{
 "cells": [
  {
   "cell_type": "code",
   "execution_count": 1,
   "metadata": {},
   "outputs": [
    {
     "name": "stderr",
     "output_type": "stream",
     "text": [
      "/ssd2/muntasir/Desktop/NJACTS/.env/lib/python3.10/site-packages/tqdm/auto.py:21: TqdmWarning: IProgress not found. Please update jupyter and ipywidgets. See https://ipywidgets.readthedocs.io/en/stable/user_install.html\n",
      "  from .autonotebook import tqdm as notebook_tqdm\n"
     ]
    }
   ],
   "source": [
    "import io\n",
    "import os\n",
    "import torch\n",
    "from tqdm.notebook import tqdm\n",
    "from torch.utils.data import Dataset, DataLoader\n",
    "from ml_things import plot_dict, plot_confusion_matrix, fix_text\n",
    "from sklearn.metrics import classification_report, accuracy_score\n",
    "from transformers import (set_seed,\n",
    "                          TrainingArguments,\n",
    "                          Trainer,\n",
    "                          GPT2Config,\n",
    "                          GPT2Tokenizer,\n",
    "                          AdamW, \n",
    "                          get_linear_schedule_with_warmup,\n",
    "                          GPT2ForSequenceClassification)\n",
    "\n",
    "from peft import LoraConfig, get_peft_model\n",
    "from datasets import load_dataset\n",
    "import pandas as pd\n",
    "from torch.utils.data import Dataset\n",
    "import os\n",
    "\n",
    "set_seed(123)\n",
    "\n",
    "epochs = 16\n",
    "\n",
    "batch_size = 16\n",
    "\n",
    "max_length = 512\n",
    "\n",
    "device = torch.device('cuda' if torch.cuda.is_available() else 'cpu')\n",
    "\n",
    "model_name_or_path = 'gpt2'\n",
    "\n",
    "class_names = ['Alive','Dead']\n",
    "\n",
    "labels_ids = {'Alive': 0, 'Dead': 1}\n",
    "\n",
    "n_labels = len(labels_ids)"
   ]
  },
  {
   "cell_type": "code",
   "execution_count": 2,
   "metadata": {},
   "outputs": [],
   "source": [
    "\n",
    "\n",
    "class EventDataset(Dataset):\n",
    "    r\"\"\"PyTorch Dataset class for loading data.\n",
    "\n",
    "    This is where the data parsing happens.\n",
    "\n",
    "    This class is built with reusability in mind: it can be used as is as.\n",
    "\n",
    "    Arguments:\n",
    "\n",
    "    path (:obj:`str`):\n",
    "        Path to the data CSV file.\n",
    "\n",
    "    \"\"\"\n",
    "\n",
    "    def __init__(self, path,use_tokenizer):\n",
    "        # Check if path exists.\n",
    "        if not os.path.isfile(path):\n",
    "            # Raise error if path is invalid.\n",
    "            raise ValueError('Invalid `path` variable! Needs to be a file')\n",
    "        \n",
    "        # Load the CSV file.\n",
    "        self.data = pd.read_csv(path)\n",
    "        \n",
    "        # Ensure the CSV file contains 'Content' and 'label' columns.\n",
    "        if 'Text' not in self.data.columns or 'label' not in self.data.columns:\n",
    "            raise ValueError(\"CSV file must contain 'Text' and 'label' columns.\")\n",
    "        \n",
    "        self.texts = self.data['Text'].tolist()   # [:20] # for debugging\n",
    "        self.labels = self.data['label'].tolist()    # [:20] # for debugging\n",
    "\n",
    "        # Number of examples.\n",
    "        self.n_examples = len(self.labels)\n",
    "\n",
    "    def __len__(self):\n",
    "        r\"\"\"When used `len` return the number of examples.\n",
    "\n",
    "        \"\"\"\n",
    "\n",
    "        return self.n_examples\n",
    "\n",
    "    def __getitem__(self, item):\n",
    "        r\"\"\"Given an index return an example from the position.\n",
    "\n",
    "        Arguments:\n",
    "\n",
    "        item (:obj:`int`):\n",
    "            Index position to pick an example to return.\n",
    "\n",
    "        Returns:\n",
    "        :obj:`Dict[str, str]`: Dictionary of inputs that contain text and \n",
    "        associated labels.\n",
    "\n",
    "        \"\"\"\n",
    "        label_str = 'Dead' if self.labels[item] == 1 else 'Alive'\n",
    "\n",
    "        return {'text': self.texts[item],\n",
    "                'label': label_str}\n"
   ]
  },
  {
   "cell_type": "code",
   "execution_count": 3,
   "metadata": {},
   "outputs": [],
   "source": [
    "\n",
    "class Gpt2ClassificationCollator(object):\n",
    "    r\"\"\"\n",
    "    Data Collator used for GPT2 in a classificaiton rask. \n",
    "    \n",
    "    It uses a given tokenizer and label encoder to convert any text and labels to numbers that \n",
    "    can go straight into a GPT2 model.\n",
    "\n",
    "    This class is built with reusability in mind: it can be used as is as long\n",
    "    as the `dataloader` outputs a batch in dictionary format that can be passed \n",
    "    straight into the model - `model(**batch)`.\n",
    "\n",
    "    Arguments:\n",
    "\n",
    "      use_tokenizer (:obj:`transformers.tokenization_?`):\n",
    "          Transformer type tokenizer used to process raw text into numbers.\n",
    "\n",
    "      labels_ids (:obj:`dict`):\n",
    "          Dictionary to encode any labels names into numbers. Keys map to \n",
    "          labels names and Values map to number associated to those labels.\n",
    "\n",
    "      max_sequence_len (:obj:`int`, `optional`)\n",
    "          Value to indicate the maximum desired sequence to truncate or pad text\n",
    "          sequences. If no value is passed it will used maximum sequence size\n",
    "          supported by the tokenizer and model.\n",
    "\n",
    "    \"\"\"\n",
    "\n",
    "    def __init__(self, use_tokenizer, labels_encoder, max_sequence_len=None):\n",
    "\n",
    "        # Tokenizer to be used inside the class.\n",
    "        self.use_tokenizer = use_tokenizer\n",
    "        # Check max sequence length.\n",
    "        self.max_sequence_len = use_tokenizer.model_max_length if max_sequence_len is None else max_sequence_len\n",
    "        # Label encoder used inside the class.\n",
    "        self.labels_encoder = labels_encoder\n",
    "\n",
    "        return\n",
    "\n",
    "    def __call__(self, sequences):\n",
    "        r\"\"\"\n",
    "        This function allowes the class objesct to be used as a function call.\n",
    "        Sine the PyTorch DataLoader needs a collator function, I can use this \n",
    "        class as a function.\n",
    "\n",
    "        Arguments:\n",
    "\n",
    "          item (:obj:`list`):\n",
    "              List of texts and labels.\n",
    "\n",
    "        Returns:\n",
    "          :obj:`Dict[str, object]`: Dictionary of inputs that feed into the model.\n",
    "          It holddes the statement `model(**Returned Dictionary)`.\n",
    "        \"\"\"\n",
    "\n",
    "        # Get all texts from sequences list.\n",
    "        texts = [sequence['text'] for sequence in sequences]\n",
    "        # Get all labels from sequences list.\n",
    "        labels = [sequence['label'] for sequence in sequences]\n",
    "        # Encode all labels using label encoder.\n",
    "        labels = [self.labels_encoder[label] for label in labels]\n",
    "        # Call tokenizer on all texts to convert into tensors of numbers with \n",
    "        # appropriate padding.\n",
    "        inputs = self.use_tokenizer(text=texts, return_tensors=\"pt\", padding=True, truncation=True,  max_length=self.max_sequence_len)\n",
    "        # Update the inputs with the associated encoded labels as tensor.\n",
    "        inputs.update({'labels':torch.tensor(labels)})\n",
    "\n",
    "        return inputs\n",
    "\n",
    "\n",
    "def train(dataloader, optimizer_, scheduler_, device_, class_weights):\n",
    "    r\"\"\"\n",
    "    Train pytorch model on a single pass through the data loader.\n",
    "\n",
    "    It will use the global variable `model` which is the transformer model \n",
    "    loaded on `_device` that we want to train on.\n",
    "\n",
    "    This function is built with reusability in mind: it can be used as is as long\n",
    "      as the `dataloader` outputs a batch in dictionary format that can be passed \n",
    "      straight into the model - `model(**batch)`.\n",
    "\n",
    "    Arguments:\n",
    "\n",
    "        dataloader (:obj:`torch.utils.data.dataloader.DataLoader`):\n",
    "            Parsed data into batches of tensors.\n",
    "\n",
    "        optimizer_ (:obj:`transformers.optimization.AdamW`):\n",
    "            Optimizer used for training.\n",
    "\n",
    "        scheduler_ (:obj:`torch.optim.lr_scheduler.LambdaLR`):\n",
    "            PyTorch scheduler.\n",
    "\n",
    "        device_ (:obj:`torch.device`):\n",
    "            Device used to load tensors before feeding to model.\n",
    "\n",
    "        class_weights (:obj:`torch.FloatTensor`):\n",
    "            Class weights to handle class imbalance.\n",
    "\n",
    "    Returns:\n",
    "\n",
    "        :obj:`List[List[int], List[int], float]`: List of [True Labels, Predicted\n",
    "          Labels, Train Average Loss].\n",
    "    \"\"\"\n",
    "\n",
    "    # Use global variable for model.\n",
    "    global model\n",
    "\n",
    "    # Tracking variables.\n",
    "    predictions_labels = []\n",
    "    true_labels = []\n",
    "    # Total loss for this epoch.\n",
    "    total_loss = 0\n",
    "\n",
    "    # Define the loss function with class weights\n",
    "    loss_fn = torch.nn.CrossEntropyLoss(weight=class_weights)\n",
    "\n",
    "    # Put the model into training mode.\n",
    "    model.train()\n",
    "\n",
    "    # For each batch of training data...\n",
    "    for batch in tqdm(dataloader, total=len(dataloader)):\n",
    "\n",
    "        # Add original labels - use later for evaluation.\n",
    "        true_labels += batch['labels'].numpy().flatten().tolist()\n",
    "        \n",
    "        # move batch to device\n",
    "        batch = {k:v.type(torch.long).to(device_) for k,v in batch.items()}\n",
    "        \n",
    "        # Always clear any previously calculated gradients before performing a\n",
    "        # backward pass.\n",
    "        model.zero_grad()\n",
    "\n",
    "        # Perform a forward pass (evaluate the model on this training batch).\n",
    "        outputs = model(**batch)\n",
    "\n",
    "        # The call to `model` always returns a tuple, so we need to pull the \n",
    "        # loss value out of the tuple along with the logits.\n",
    "        logits = outputs[1]  # Get logits\n",
    "\n",
    "        # Calculate loss with class weights\n",
    "        loss = loss_fn(logits, batch['labels'])\n",
    "\n",
    "        # Accumulate the training loss over all of the batches so that we can\n",
    "        # calculate the average loss at the end.\n",
    "        total_loss += loss.item()\n",
    "\n",
    "        # Perform a backward pass to calculate the gradients.\n",
    "        loss.backward()\n",
    "\n",
    "        # Clip the norm of the gradients to 1.0.\n",
    "        torch.nn.utils.clip_grad_norm_(model.parameters(), 1.0)\n",
    "\n",
    "        # Update parameters and take a step using the computed gradient.\n",
    "        optimizer_.step()\n",
    "\n",
    "        # Update the learning rate.\n",
    "        scheduler_.step()\n",
    "\n",
    "        # Move logits and labels to CPU\n",
    "        logits = logits.detach().cpu().numpy()\n",
    "\n",
    "        # Convert these logits to list of predicted labels values.\n",
    "        predictions_labels += logits.argmax(axis=-1).flatten().tolist()\n",
    "\n",
    "    # Calculate the average loss over the training data.\n",
    "    avg_epoch_loss = total_loss / len(dataloader)\n",
    "    \n",
    "    # Return all true labels and prediction for future evaluations.\n",
    "    return true_labels, predictions_labels, avg_epoch_loss\n",
    "\n",
    "\n",
    "\n",
    "\n",
    "import torch\n",
    "from tqdm import tqdm\n",
    "\n",
    "def validation(dataloader, device_):\n",
    "    r\"\"\"Validation function to evaluate model performance on a \n",
    "    separate set of data.\n",
    "\n",
    "    This function will return the true and predicted labels, as well as the\n",
    "    prediction probabilities, so we can use them later to evaluate the model's\n",
    "    performance, including calculating the roc_auc score.\n",
    "\n",
    "    This function is built with reusability in mind: it can be used as is as long\n",
    "    as the `dataloader` outputs a batch in dictionary format that can be passed \n",
    "    straight into the model - `model(**batch)`.\n",
    "\n",
    "    Arguments:\n",
    "\n",
    "    dataloader (:obj:`torch.utils.data.dataloader.DataLoader`):\n",
    "        Parsed data into batches of tensors.\n",
    "\n",
    "    device_ (:obj:`torch.device`):\n",
    "        Device used to load tensors before feeding to model.\n",
    "\n",
    "    Returns:\n",
    "    \n",
    "    :obj:`Tuple[List[int], List[int], List[List[float]], float]`: Tuple of [True Labels, \n",
    "        Predicted Labels, Prediction Probabilities, Average Loss]\n",
    "    \"\"\"\n",
    "\n",
    "    # Use global variable for model.\n",
    "    global model\n",
    "\n",
    "    # Tracking variables\n",
    "    predictions_labels = []\n",
    "    true_labels = []\n",
    "    prediction_probs = []\n",
    "    # Total loss for this epoch.\n",
    "    total_loss = 0\n",
    "\n",
    "    # Put the model in evaluation mode--the dropout layers behave differently\n",
    "    # during evaluation.\n",
    "    model.eval()\n",
    "\n",
    "    # Evaluate data for one epoch\n",
    "    for batch in tqdm(dataloader, total=len(dataloader)):\n",
    "\n",
    "        # Add original labels\n",
    "        true_labels += batch['labels'].numpy().flatten().tolist()\n",
    "\n",
    "        # Move batch to device\n",
    "        batch = {k: v.type(torch.long).to(device_) for k, v in batch.items()}\n",
    "\n",
    "        # Telling the model not to compute or store gradients, saving memory and\n",
    "        # speeding up validation\n",
    "        with torch.no_grad():        \n",
    "\n",
    "            # Forward pass, calculate logit predictions.\n",
    "            # This will return the logits rather than the loss because we have\n",
    "            # not provided labels.\n",
    "            outputs = model(**batch)\n",
    "\n",
    "            # The call to `model` always returns a tuple, so we need to pull the \n",
    "            # loss value out of the tuple along with the logits. We will use logits\n",
    "            # later to calculate training accuracy.\n",
    "            loss, logits = outputs[:2]\n",
    "            \n",
    "            # Move logits to CPU\n",
    "            logits = logits.detach().cpu().numpy()\n",
    "\n",
    "            # Accumulate the training loss over all of the batches so that we can\n",
    "            # calculate the average loss at the end. `loss` is a Tensor containing a\n",
    "            # single value; the `.item()` function just returns the Python value \n",
    "            # from the tensor.\n",
    "            total_loss += loss.item()\n",
    "            \n",
    "            # Apply softmax to get prediction probabilities\n",
    "            probs = torch.nn.functional.softmax(torch.tensor(logits), dim=-1).cpu().numpy()\n",
    "            \n",
    "            # Get predictions\n",
    "            predict_content = logits.argmax(axis=-1).flatten().tolist()\n",
    "\n",
    "            # Update lists\n",
    "            predictions_labels += predict_content\n",
    "            prediction_probs += probs.tolist()\n",
    "\n",
    "    # Calculate the average loss over the training data.\n",
    "    avg_epoch_loss = total_loss / len(dataloader)\n",
    "\n",
    "    # Return true labels, predicted labels, prediction probabilities, and average loss.\n",
    "    return true_labels, predictions_labels, prediction_probs, avg_epoch_loss\n"
   ]
  },
  {
   "cell_type": "code",
   "execution_count": 4,
   "metadata": {},
   "outputs": [
    {
     "name": "stdout",
     "output_type": "stream",
     "text": [
      "Loading configuraiton...\n",
      "Loading tokenizer...\n"
     ]
    },
    {
     "name": "stderr",
     "output_type": "stream",
     "text": [
      "Some weights of GPT2ForSequenceClassification were not initialized from the model checkpoint at gpt2 and are newly initialized: ['score.weight']\n",
      "You should probably TRAIN this model on a down-stream task to be able to use it for predictions and inference.\n"
     ]
    },
    {
     "name": "stdout",
     "output_type": "stream",
     "text": [
      "Loading model...\n",
      "Model loaded to `cuda`\n"
     ]
    }
   ],
   "source": [
    "# Get model configuration.\n",
    "print('Loading configuraiton...')\n",
    "model_config = GPT2Config.from_pretrained(pretrained_model_name_or_path=model_name_or_path, num_labels=n_labels)\n",
    "\n",
    "# Get model's tokenizer.\n",
    "print('Loading tokenizer...')\n",
    "tokenizer = GPT2Tokenizer.from_pretrained(pretrained_model_name_or_path=model_name_or_path)\n",
    "# default to left padding\n",
    "tokenizer.padding_side = \"left\"\n",
    "# Define PAD Token = EOS Token = 50256\n",
    "tokenizer.pad_token = tokenizer.eos_token\n",
    "\n",
    "\n",
    "# Get the actual model.\n",
    "print('Loading model...')\n",
    "model = GPT2ForSequenceClassification.from_pretrained(pretrained_model_name_or_path=model_name_or_path, config=model_config)\n",
    "\n",
    "# resize model embedding to match new tokenizer\n",
    "model.resize_token_embeddings(len(tokenizer))\n",
    "\n",
    "# fix model padding token id\n",
    "model.config.pad_token_id = model.config.eos_token_id\n",
    "\n",
    "# Load model to defined device.\n",
    "model.to(device)\n",
    "\n",
    "print('Model loaded to `%s`'%device)"
   ]
  },
  {
   "cell_type": "code",
   "execution_count": 5,
   "metadata": {},
   "outputs": [
    {
     "name": "stdout",
     "output_type": "stream",
     "text": [
      "Dealing with Train...\n",
      "Created `train_dataset` with 941 examples!\n",
      "Created `train_dataloader` with 59 batches!\n",
      "\n",
      "Dealing with Validation...\n",
      "Created `valid_dataset` with 118 examples!\n",
      "Created `eval_dataloader` with 8 batches!\n",
      "Dealing with Test...\n",
      "Created `valid_dataset` with 118 examples!\n",
      "Created `eval_dataloader` with 8 batches!\n"
     ]
    }
   ],
   "source": [
    "# Create data collator to encode text and labels into numbers.\n",
    "gpt2_classificaiton_collator = Gpt2ClassificationCollator(use_tokenizer=tokenizer, \n",
    "                                                          labels_encoder=labels_ids, \n",
    "                                                          max_sequence_len=max_length)\n",
    "\n",
    "\n",
    "print('Dealing with Train...')\n",
    "# Create pytorch dataset.\n",
    "train_dataset = EventDataset(path='Data/train.csv', \n",
    "                               use_tokenizer=tokenizer)\n",
    "print('Created `train_dataset` with %d examples!'%len(train_dataset))\n",
    "\n",
    "# Move pytorch dataset into dataloader.\n",
    "train_dataloader = DataLoader(train_dataset, batch_size=batch_size, shuffle=True, collate_fn=gpt2_classificaiton_collator)\n",
    "print('Created `train_dataloader` with %d batches!'%len(train_dataloader))\n",
    "\n",
    "print()\n",
    "\n",
    "print('Dealing with Validation...')\n",
    "# Create pytorch dataset.\n",
    "valid_dataset =  EventDataset(path='Data/valid.csv', \n",
    "                               use_tokenizer=tokenizer)\n",
    "print('Created `valid_dataset` with %d examples!'%len(valid_dataset))\n",
    "\n",
    "# Move pytorch dataset into dataloader.\n",
    "valid_dataloader = DataLoader(valid_dataset, batch_size=batch_size, shuffle=False, collate_fn=gpt2_classificaiton_collator)\n",
    "print('Created `eval_dataloader` with %d batches!'%len(valid_dataloader))\n",
    "\n",
    "print('Dealing with Test...')\n",
    "# Create pytorch dataset.\n",
    "test_dataset =  EventDataset(path='Data/test.csv', \n",
    "                               use_tokenizer=tokenizer)\n",
    "print('Created `valid_dataset` with %d examples!'%len(valid_dataset))\n",
    "\n",
    "# Move pytorch dataset into dataloader.\n",
    "test_dataloader = DataLoader(test_dataset, batch_size=batch_size, shuffle=False, collate_fn=gpt2_classificaiton_collator)\n",
    "print('Created `eval_dataloader` with %d batches!'%len(test_dataloader))"
   ]
  },
  {
   "cell_type": "code",
   "execution_count": 6,
   "metadata": {},
   "outputs": [],
   "source": [
    "labels = pd.read_csv('Data/train.csv')['label']"
   ]
  },
  {
   "cell_type": "code",
   "execution_count": 7,
   "metadata": {},
   "outputs": [
    {
     "data": {
      "text/plain": [
       "pandas.core.series.Series"
      ]
     },
     "execution_count": 7,
     "metadata": {},
     "output_type": "execute_result"
    }
   ],
   "source": [
    "type(labels)"
   ]
  },
  {
   "cell_type": "code",
   "execution_count": 8,
   "metadata": {},
   "outputs": [],
   "source": [
    "import torch\n",
    "import numpy as np\n",
    "\n",
    "\n",
    "labels = np.array(labels)  \n",
    "\n",
    "# Compute the class weights\n",
    "classes, class_sample_count = np.unique(labels, return_counts=True)\n",
    "weight = 1. / class_sample_count\n",
    "class_weights_dict = {cls: w for cls, w in zip(classes, weight)}\n",
    "\n",
    "# Apply class weights to each sample's label\n",
    "samples_weight = np.array([class_weights_dict[t] for t in labels])\n",
    "\n",
    "class_weights = torch.FloatTensor([class_weights_dict[cls] for cls in classes]).to('cuda')"
   ]
  },
  {
   "cell_type": "code",
   "execution_count": 9,
   "metadata": {},
   "outputs": [
    {
     "data": {
      "text/plain": [
       "tensor([0.0012, 0.0081], device='cuda:0')"
      ]
     },
     "execution_count": 9,
     "metadata": {},
     "output_type": "execute_result"
    }
   ],
   "source": [
    "class_weights"
   ]
  },
  {
   "cell_type": "code",
   "execution_count": 10,
   "metadata": {},
   "outputs": [
    {
     "data": {
      "text/plain": [
       "<__main__.EventDataset at 0x7f467514afe0>"
      ]
     },
     "execution_count": 10,
     "metadata": {},
     "output_type": "execute_result"
    }
   ],
   "source": [
    "test_dataset"
   ]
  },
  {
   "cell_type": "code",
   "execution_count": 11,
   "metadata": {},
   "outputs": [
    {
     "data": {
      "text/plain": [
       "{'text': '\\nThe information of the patient is:\\nThe age is 72,\\nThe gender is Male,\\nThe BMI index is 37.59,\\nThe patient is hypertensive: No,\\nThe patient has atrial fibrillation: No,\\nThe patient has Ischaemic heart disease: No,\\nThe patient has diabetes: Yes,\\nThe patient has Hypoferric anaemia: Yes,\\nThe patient has depression: No,\\nThe patient has Hyperlipemia: Yes,\\nThe patient has Chronic renal insufficiency: Yes,\\nThe patient has Chronic obstructive pulmonary disease: No,\\nThe heart rate is 68.84,\\nThe Systolic blood pressure is 155.87,\\nThe Diastolic blood pressure is 68.33,\\nThe Respiratory rate is 16.62,\\nThe temperature is 36.71,\\nThe saturation pulse oxygen is 98.39,\\nThe Urine output in the first 24 hours is 2155.00,\\nThe hematocrit is 26.27,\\nThe red blood cell is 2.96,\\nThe mean corpuscular hemoglobin is 28.25,\\nThe mean corpuscular hemoglobin concentration is 31.52,\\nThe mean corpuscular volume is 89.9,\\nThe red cell distribution width is 16.22,\\nThe Leucocyte is 7.65,\\nThe Platelets are 305.1,\\nThe Neutrophils are 74.65,\\nThe Basophils are 0.4,\\nThe Lymphocyte is 13.3,\\nThe Prothrombin time is 10.6,\\nThe International Normalized Ratio is 1.0,\\nThe aminoterminal pro B-type natriuretic peptide is 1956.0,\\nThe Creatine kinase is 148.0,\\nThe Creatinine is 1.96,\\nThe Urea nitrogen is 50.0,\\nThe glucose is 114.64,\\nThe Blood potassium is 4.82,\\nThe Blood sodium is 138.75,\\nThe Blood calcium is 7.46,\\nThe Chloride is 109.17,\\nThe Anion gap is 13.17,\\nThe Magnesium ion is 2.62,\\nThe PH is 7.23,\\nThe Bicarbonate is 21.17,\\nThe Lactic acid is 0.5,\\nThe partial pressure of carbon dioxide is 40.0,\\nThe ejection fraction is 55.0.\\n\\nFrom the given information, predict the outcome {Alive,Dead} after the patient is admitted in ICU. Answer:\\n',\n",
       " 'label': 'Alive'}"
      ]
     },
     "execution_count": 11,
     "metadata": {},
     "output_type": "execute_result"
    }
   ],
   "source": [
    "train_dataset.__getitem__(0)"
   ]
  },
  {
   "cell_type": "code",
   "execution_count": 12,
   "metadata": {},
   "outputs": [
    {
     "name": "stderr",
     "output_type": "stream",
     "text": [
      "/ssd2/muntasir/Desktop/NJACTS/.env/lib/python3.10/site-packages/transformers/optimization.py:591: FutureWarning: This implementation of AdamW is deprecated and will be removed in a future version. Use the PyTorch implementation torch.optim.AdamW instead, or set `no_deprecation_warning=True` to disable this warning\n",
      "  warnings.warn(\n"
     ]
    },
    {
     "name": "stdout",
     "output_type": "stream",
     "text": [
      "Epoch\n"
     ]
    },
    {
     "name": "stderr",
     "output_type": "stream",
     "text": [
      "  0%|          | 0/16 [00:00<?, ?it/s]"
     ]
    },
    {
     "name": "stdout",
     "output_type": "stream",
     "text": [
      "\n",
      "Training on batches...\n"
     ]
    },
    {
     "name": "stderr",
     "output_type": "stream",
     "text": [
      "100%|██████████| 59/59 [00:54<00:00,  1.09it/s]\n"
     ]
    },
    {
     "name": "stdout",
     "output_type": "stream",
     "text": [
      "Validation on batches...\n"
     ]
    },
    {
     "name": "stderr",
     "output_type": "stream",
     "text": [
      "100%|██████████| 8/8 [00:02<00:00,  3.41it/s]\n",
      "  6%|▋         | 1/16 [00:56<14:08, 56.54s/it]"
     ]
    },
    {
     "name": "stdout",
     "output_type": "stream",
     "text": [
      "  train_loss: 1.08137 - val_loss: 1.12925 - train_acc: 0.54942 - valid_acc: 0.17797\n",
      "\n",
      "\n",
      "Training on batches...\n"
     ]
    },
    {
     "name": "stderr",
     "output_type": "stream",
     "text": [
      "100%|██████████| 59/59 [00:51<00:00,  1.14it/s]\n"
     ]
    },
    {
     "name": "stdout",
     "output_type": "stream",
     "text": [
      "Validation on batches...\n"
     ]
    },
    {
     "name": "stderr",
     "output_type": "stream",
     "text": [
      "100%|██████████| 8/8 [00:02<00:00,  3.28it/s]\n",
      " 12%|█▎        | 2/16 [01:50<12:53, 55.25s/it]"
     ]
    },
    {
     "name": "stdout",
     "output_type": "stream",
     "text": [
      "  train_loss: 0.72890 - val_loss: 0.67719 - train_acc: 0.48565 - valid_acc: 0.60169\n",
      "\n",
      "\n",
      "Training on batches...\n"
     ]
    },
    {
     "name": "stderr",
     "output_type": "stream",
     "text": [
      "100%|██████████| 59/59 [00:52<00:00,  1.13it/s]\n"
     ]
    },
    {
     "name": "stdout",
     "output_type": "stream",
     "text": [
      "Validation on batches...\n"
     ]
    },
    {
     "name": "stderr",
     "output_type": "stream",
     "text": [
      "100%|██████████| 8/8 [00:02<00:00,  3.34it/s]\n",
      " 19%|█▉        | 3/16 [02:45<11:53, 54.88s/it]"
     ]
    },
    {
     "name": "stdout",
     "output_type": "stream",
     "text": [
      "  train_loss: 0.70969 - val_loss: 0.48507 - train_acc: 0.59511 - valid_acc: 0.83898\n",
      "\n",
      "\n",
      "Training on batches...\n"
     ]
    },
    {
     "name": "stderr",
     "output_type": "stream",
     "text": [
      "100%|██████████| 59/59 [00:51<00:00,  1.14it/s]\n"
     ]
    },
    {
     "name": "stdout",
     "output_type": "stream",
     "text": [
      "Validation on batches...\n"
     ]
    },
    {
     "name": "stderr",
     "output_type": "stream",
     "text": [
      "100%|██████████| 8/8 [00:02<00:00,  3.40it/s]\n",
      " 25%|██▌       | 4/16 [03:39<10:55, 54.63s/it]"
     ]
    },
    {
     "name": "stdout",
     "output_type": "stream",
     "text": [
      "  train_loss: 0.71529 - val_loss: 0.79228 - train_acc: 0.58130 - valid_acc: 0.39831\n",
      "\n",
      "\n",
      "Training on batches...\n"
     ]
    },
    {
     "name": "stderr",
     "output_type": "stream",
     "text": [
      "100%|██████████| 59/59 [00:52<00:00,  1.13it/s]\n"
     ]
    },
    {
     "name": "stdout",
     "output_type": "stream",
     "text": [
      "Validation on batches...\n"
     ]
    },
    {
     "name": "stderr",
     "output_type": "stream",
     "text": [
      "100%|██████████| 8/8 [00:02<00:00,  3.25it/s]\n",
      " 31%|███▏      | 5/16 [04:34<10:00, 54.61s/it]"
     ]
    },
    {
     "name": "stdout",
     "output_type": "stream",
     "text": [
      "  train_loss: 0.67412 - val_loss: 0.67657 - train_acc: 0.64825 - valid_acc: 0.52542\n",
      "\n",
      "\n",
      "Training on batches...\n"
     ]
    },
    {
     "name": "stderr",
     "output_type": "stream",
     "text": [
      "100%|██████████| 59/59 [00:51<00:00,  1.14it/s]\n"
     ]
    },
    {
     "name": "stdout",
     "output_type": "stream",
     "text": [
      "Validation on batches...\n"
     ]
    },
    {
     "name": "stderr",
     "output_type": "stream",
     "text": [
      "100%|██████████| 8/8 [00:02<00:00,  3.34it/s]\n",
      " 38%|███▊      | 6/16 [05:28<09:05, 54.53s/it]"
     ]
    },
    {
     "name": "stdout",
     "output_type": "stream",
     "text": [
      "  train_loss: 0.64222 - val_loss: 0.85802 - train_acc: 0.69182 - valid_acc: 0.38136\n",
      "\n",
      "\n",
      "Training on batches...\n"
     ]
    },
    {
     "name": "stderr",
     "output_type": "stream",
     "text": [
      "100%|██████████| 59/59 [00:51<00:00,  1.14it/s]\n"
     ]
    },
    {
     "name": "stdout",
     "output_type": "stream",
     "text": [
      "Validation on batches...\n"
     ]
    },
    {
     "name": "stderr",
     "output_type": "stream",
     "text": [
      "100%|██████████| 8/8 [00:02<00:00,  3.38it/s]\n",
      " 44%|████▍     | 7/16 [06:22<08:10, 54.46s/it]"
     ]
    },
    {
     "name": "stdout",
     "output_type": "stream",
     "text": [
      "  train_loss: 0.66167 - val_loss: 0.64279 - train_acc: 0.62168 - valid_acc: 0.60169\n",
      "\n",
      "\n",
      "Training on batches...\n"
     ]
    },
    {
     "name": "stderr",
     "output_type": "stream",
     "text": [
      "100%|██████████| 59/59 [00:51<00:00,  1.14it/s]\n"
     ]
    },
    {
     "name": "stdout",
     "output_type": "stream",
     "text": [
      "Validation on batches...\n"
     ]
    },
    {
     "name": "stderr",
     "output_type": "stream",
     "text": [
      "100%|██████████| 8/8 [00:02<00:00,  3.29it/s]\n",
      " 50%|█████     | 8/16 [07:16<07:14, 54.36s/it]"
     ]
    },
    {
     "name": "stdout",
     "output_type": "stream",
     "text": [
      "  train_loss: 0.64966 - val_loss: 0.73418 - train_acc: 0.70032 - valid_acc: 0.53390\n",
      "\n",
      "\n",
      "Training on batches...\n"
     ]
    },
    {
     "name": "stderr",
     "output_type": "stream",
     "text": [
      "100%|██████████| 59/59 [00:51<00:00,  1.14it/s]\n"
     ]
    },
    {
     "name": "stdout",
     "output_type": "stream",
     "text": [
      "Validation on batches...\n"
     ]
    },
    {
     "name": "stderr",
     "output_type": "stream",
     "text": [
      "100%|██████████| 8/8 [00:02<00:00,  3.41it/s]\n",
      " 56%|█████▋    | 9/16 [08:11<06:20, 54.30s/it]"
     ]
    },
    {
     "name": "stdout",
     "output_type": "stream",
     "text": [
      "  train_loss: 0.58907 - val_loss: 0.58283 - train_acc: 0.72795 - valid_acc: 0.68644\n",
      "\n",
      "\n",
      "Training on batches...\n"
     ]
    },
    {
     "name": "stderr",
     "output_type": "stream",
     "text": [
      "100%|██████████| 59/59 [00:51<00:00,  1.14it/s]\n"
     ]
    },
    {
     "name": "stdout",
     "output_type": "stream",
     "text": [
      "Validation on batches...\n"
     ]
    },
    {
     "name": "stderr",
     "output_type": "stream",
     "text": [
      "100%|██████████| 8/8 [00:02<00:00,  3.46it/s]\n",
      " 62%|██████▎   | 10/16 [09:05<05:25, 54.20s/it]"
     ]
    },
    {
     "name": "stdout",
     "output_type": "stream",
     "text": [
      "  train_loss: 0.54301 - val_loss: 0.63552 - train_acc: 0.77258 - valid_acc: 0.66949\n",
      "\n",
      "\n",
      "Training on batches...\n"
     ]
    },
    {
     "name": "stderr",
     "output_type": "stream",
     "text": [
      "100%|██████████| 59/59 [00:51<00:00,  1.13it/s]\n"
     ]
    },
    {
     "name": "stdout",
     "output_type": "stream",
     "text": [
      "Validation on batches...\n"
     ]
    },
    {
     "name": "stderr",
     "output_type": "stream",
     "text": [
      "100%|██████████| 8/8 [00:02<00:00,  3.37it/s]\n",
      " 69%|██████▉   | 11/16 [09:59<04:31, 54.26s/it]"
     ]
    },
    {
     "name": "stdout",
     "output_type": "stream",
     "text": [
      "  train_loss: 0.52114 - val_loss: 0.66081 - train_acc: 0.80659 - valid_acc: 0.66949\n",
      "\n",
      "\n",
      "Training on batches...\n"
     ]
    },
    {
     "name": "stderr",
     "output_type": "stream",
     "text": [
      "100%|██████████| 59/59 [00:51<00:00,  1.14it/s]\n"
     ]
    },
    {
     "name": "stdout",
     "output_type": "stream",
     "text": [
      "Validation on batches...\n"
     ]
    },
    {
     "name": "stderr",
     "output_type": "stream",
     "text": [
      "100%|██████████| 8/8 [00:02<00:00,  3.47it/s]\n",
      " 75%|███████▌  | 12/16 [10:53<03:36, 54.22s/it]"
     ]
    },
    {
     "name": "stdout",
     "output_type": "stream",
     "text": [
      "  train_loss: 0.50799 - val_loss: 0.73489 - train_acc: 0.77577 - valid_acc: 0.66949\n",
      "\n",
      "\n",
      "Training on batches...\n"
     ]
    },
    {
     "name": "stderr",
     "output_type": "stream",
     "text": [
      "100%|██████████| 59/59 [00:51<00:00,  1.14it/s]\n"
     ]
    },
    {
     "name": "stdout",
     "output_type": "stream",
     "text": [
      "Validation on batches...\n"
     ]
    },
    {
     "name": "stderr",
     "output_type": "stream",
     "text": [
      "100%|██████████| 8/8 [00:02<00:00,  3.33it/s]\n",
      " 81%|████████▏ | 13/16 [11:47<02:42, 54.22s/it]"
     ]
    },
    {
     "name": "stdout",
     "output_type": "stream",
     "text": [
      "  train_loss: 0.47643 - val_loss: 0.77418 - train_acc: 0.79702 - valid_acc: 0.63559\n",
      "\n",
      "\n",
      "Training on batches...\n"
     ]
    },
    {
     "name": "stderr",
     "output_type": "stream",
     "text": [
      "100%|██████████| 59/59 [00:51<00:00,  1.14it/s]\n"
     ]
    },
    {
     "name": "stdout",
     "output_type": "stream",
     "text": [
      "Validation on batches...\n"
     ]
    },
    {
     "name": "stderr",
     "output_type": "stream",
     "text": [
      "100%|██████████| 8/8 [00:02<00:00,  3.44it/s]\n",
      " 88%|████████▊ | 14/16 [12:41<01:48, 54.19s/it]"
     ]
    },
    {
     "name": "stdout",
     "output_type": "stream",
     "text": [
      "  train_loss: 0.46797 - val_loss: 0.65314 - train_acc: 0.81190 - valid_acc: 0.72034\n",
      "\n",
      "\n",
      "Training on batches...\n"
     ]
    },
    {
     "name": "stderr",
     "output_type": "stream",
     "text": [
      "100%|██████████| 59/59 [00:51<00:00,  1.14it/s]\n"
     ]
    },
    {
     "name": "stdout",
     "output_type": "stream",
     "text": [
      "Validation on batches...\n"
     ]
    },
    {
     "name": "stderr",
     "output_type": "stream",
     "text": [
      "100%|██████████| 8/8 [00:02<00:00,  3.46it/s]\n",
      " 94%|█████████▍| 15/16 [13:36<00:54, 54.21s/it]"
     ]
    },
    {
     "name": "stdout",
     "output_type": "stream",
     "text": [
      "  train_loss: 0.44760 - val_loss: 0.72409 - train_acc: 0.83953 - valid_acc: 0.66949\n",
      "\n",
      "\n",
      "Training on batches...\n"
     ]
    },
    {
     "name": "stderr",
     "output_type": "stream",
     "text": [
      "100%|██████████| 59/59 [00:52<00:00,  1.13it/s]\n"
     ]
    },
    {
     "name": "stdout",
     "output_type": "stream",
     "text": [
      "Validation on batches...\n"
     ]
    },
    {
     "name": "stderr",
     "output_type": "stream",
     "text": [
      "100%|██████████| 8/8 [00:02<00:00,  3.36it/s]\n",
      "100%|██████████| 16/16 [14:30<00:00, 54.42s/it]"
     ]
    },
    {
     "name": "stdout",
     "output_type": "stream",
     "text": [
      "  train_loss: 0.44284 - val_loss: 0.69344 - train_acc: 0.83953 - valid_acc: 0.69492\n",
      "\n"
     ]
    },
    {
     "name": "stderr",
     "output_type": "stream",
     "text": [
      "\n"
     ]
    }
   ],
   "source": [
    "# Note: AdamW is a class from the huggingface library (as opposed to pytorch) \n",
    "# I believe the 'W' stands for 'Weight Decay fix\"\n",
    "optimizer = AdamW(model.parameters(),\n",
    "                  lr = 2e-5, # default is 5e-5, our notebook had 2e-5\n",
    "                  eps = 1e-8 # default is 1e-8.\n",
    "                  )\n",
    "\n",
    "# Total number of training steps is number of batches * number of epochs.\n",
    "# `train_dataloader` contains batched data so `len(train_dataloader)` gives \n",
    "# us the number of batches.\n",
    "total_steps = len(train_dataloader) * epochs\n",
    "\n",
    "# Create the learning rate scheduler.\n",
    "scheduler = get_linear_schedule_with_warmup(optimizer, \n",
    "                                            num_warmup_steps = 0, # Default value in run_glue.py\n",
    "                                            num_training_steps = total_steps)\n",
    "\n",
    "# Store the average loss after each epoch so we can plot them.\n",
    "all_loss = {'train_loss':[], 'val_loss':[]}\n",
    "all_acc = {'train_acc':[], 'val_acc':[]}\n",
    "\n",
    "# Loop through each epoch.\n",
    "print('Epoch')\n",
    "for epoch in tqdm(range(epochs)):\n",
    "  print()\n",
    "  print('Training on batches...')\n",
    "  # Perform one full pass over the training set.\n",
    "  train_labels, train_predict, train_loss = train(train_dataloader, optimizer, scheduler, device,class_weights)\n",
    "  train_acc = accuracy_score(train_labels, train_predict)\n",
    "\n",
    "  # Get prediction form model on validation data. \n",
    "  print('Validation on batches...')\n",
    "  valid_labels, valid_predict, predict_probs, val_loss = validation(valid_dataloader, device)\n",
    "  val_acc = accuracy_score(valid_labels, valid_predict)\n",
    "\n",
    "  # Print loss and accuracy values to see how training evolves.\n",
    "  print(\"  train_loss: %.5f - val_loss: %.5f - train_acc: %.5f - valid_acc: %.5f\"%(train_loss, val_loss, train_acc, val_acc))\n",
    "  print()\n",
    "\n",
    "  # Store the loss value for plotting the learning curve.\n",
    "  all_loss['train_loss'].append(train_loss)\n",
    "  all_loss['val_loss'].append(val_loss)\n",
    "  all_acc['train_acc'].append(train_acc)\n",
    "  all_acc['val_acc'].append(val_acc)\n",
    "\n"
   ]
  },
  {
   "cell_type": "code",
   "execution_count": 13,
   "metadata": {},
   "outputs": [
    {
     "name": "stderr",
     "output_type": "stream",
     "text": [
      "/ssd2/muntasir/Desktop/NJACTS/.env/lib/python3.10/site-packages/ml_things/plot_functions.py:409: DeprecationWarning: `magnify` needs to have value in [0,1]! `1.2` will be converted to `0.1` as default.\n",
      "  warnings.warn(f'`magnify` needs to have value in [0,1]! `{magnify}` will be converted to `0.1` as default.',\n"
     ]
    },
    {
     "data": {
      "image/png": "[encoded data removed]",
      "text/plain": [
       "<Figure size 2880x720 with 1 Axes>"
      ]
     },
     "metadata": {},
     "output_type": "display_data"
    },
    {
     "name": "stderr",
     "output_type": "stream",
     "text": [
      "/ssd2/muntasir/Desktop/NJACTS/.env/lib/python3.10/site-packages/ml_things/plot_functions.py:409: DeprecationWarning: `magnify` needs to have value in [0,1]! `1.2` will be converted to `0.1` as default.\n",
      "  warnings.warn(f'`magnify` needs to have value in [0,1]! `{magnify}` will be converted to `0.1` as default.',\n"
     ]
    },
    {
     "data": {
      "image/png": "[encoded data removed]",
      "text/plain": [
       "<Figure size 2880x720 with 1 Axes>"
      ]
     },
     "metadata": {},
     "output_type": "display_data"
    }
   ],
   "source": [
    "# Plot loss curves.\n",
    "plot_dict(all_loss, use_xlabel='Epochs', use_ylabel='Value', use_linestyles=['-', '--'])\n",
    "\n",
    "# Plot accuracy curves.\n",
    "plot_dict(all_acc, use_xlabel='Epochs', use_ylabel='Value', use_linestyles=['-', '--'])"
   ]
  },
  {
   "cell_type": "code",
   "execution_count": 14,
   "metadata": {},
   "outputs": [
    {
     "name": "stdout",
     "output_type": "stream",
     "text": [
      "Help on function plot_dict in module ml_things.plot_functions:\n",
      "\n",
      "plot_dict(dict_arrays, start_step=0, step_size=1, use_title=None, points_values=False, points_round=3, use_xlabel=None, use_xticks=True, use_rotation_xticks=0, xticks_labels=None, use_ylabel=None, style_sheet='ggplot', use_grid=True, use_linestyles=None, font_size=None, width=3, height=1, magnify=1.2, use_dpi=50, path=None, show_plot=True)\n",
      "    Create plot from a single array of values.\n",
      "    \n",
      "    Arguments:\n",
      "    \n",
      "        dict_arrays (:obj:`dict([list])`):\n",
      "            Dictionary of arrays that will get plotted. The keys in dictionary are used as labels and the values as\n",
      "            arrays that get plotted.\n",
      "    \n",
      "        start_step (:obj:`int`, `optional`, defaults to :obj:`0`):\n",
      "            Starting value of plot.This argument is optional and it has a default value attributed inside\n",
      "            the function.\n",
      "    \n",
      "        step_size (:obj:`int`, `optional`, defaults to :obj:`q`):\n",
      "            Steps shows on x-axis. Change if each steps is different than 1.This argument is optional and it has a\n",
      "            default value attributed inside the function.\n",
      "    \n",
      "        use_title (:obj:`int`, `optional`):\n",
      "            Title on top of plot. This argument is optional and it will have a `None` value attributed\n",
      "            inside the function.\n",
      "    \n",
      "        points_values (:obj:`bool`, `optional`, defaults to :obj:`False`):\n",
      "            Display each point value on the plot. This argument is optional and it has a default value attributed\n",
      "            inside the function.\n",
      "    \n",
      "        points_round (:obj:`int`, `optional`, defaults to :obj:`1`):\n",
      "            Round decimal valus for points values. This argument is optional and it has a default value attributed\n",
      "            inside the function.\n",
      "    \n",
      "        use_xlabel (:obj:`str`, `optional`):\n",
      "            Label to use for x-axis value meaning. This argument is optional and it will have a `None` value attributed\n",
      "            inside the function.\n",
      "    \n",
      "        use_xticks (:obj:`bool`, `optional`, defaults to :obj:`True`):\n",
      "            Display x-axis tick values (the values at each point). This argument is optional and it has a default\n",
      "            value attributed inside the function.\n",
      "    \n",
      "        use_ylabel (:obj:`str`, `optional`):\n",
      "            Label to use for y-axis value meaning. This argument is optional and it will have a `None` value attributed\n",
      "            inside the function.\n",
      "    \n",
      "        style_sheet (:obj:`str`, `optional`, defaults to :obj:`ggplot`):\n",
      "            Style of plot. Use plt.style.available to show all styles. This argument is optional and it has a default\n",
      "            value attributed inside the function.\n",
      "    \n",
      "        use_grid (:obj:`bool`, `optional`, defaults to :obj:`True`):\n",
      "            Show grid on plot or not. This argument is optional and it has a default value attributed inside\n",
      "            the function.\n",
      "    \n",
      "        use_linestyles (:obj:`str`, `optional`, defaults to :obj:`-`):\n",
      "            Style to use on line from ['-', '--', '-.', ':']. This argument is optional and it has a default\n",
      "            value attributed inside the function.\n",
      "    \n",
      "        font_size (:obj:`int` or `float`, `optional`):\n",
      "            Font size to use across the plot. By default this function will adjust font size depending on `magnify`\n",
      "            value. If this value is set, it will ignore the `magnify` recommended font size. The title font size is by\n",
      "            default `1.8` greater than font-size. This argument is optional and it will have a `None` value attributed\n",
      "            inside the function.\n",
      "    \n",
      "        width (:obj:`int`, `optional`, defaults to :obj:`3`):\n",
      "            Horizontal length of plot. This argument is optional and it has a default value attributed inside\n",
      "            the function.\n",
      "    \n",
      "        height (:obj:`int`, `optional`, defaults to :obj:`1`):\n",
      "            Height length of plot in inches. This argument is optional and it has a default value attributed inside\n",
      "            the function.\n",
      "    \n",
      "        magnify (:obj:`float`, `optional`, defaults to :obj:`0.1`):\n",
      "            Ratio increase of both with and height keeping the same ratio size. This argument is optional and it has a\n",
      "            default value attributed inside the function.\n",
      "    \n",
      "        use_dpi (:obj:`int`, `optional`, defaults to :obj:`50`):\n",
      "            Print resolution is measured in dots per inch (or “DPI”). This argument is optional and it has a default\n",
      "            value attributed inside the function.\n",
      "    \n",
      "        path (:obj:`str`, `optional`):\n",
      "            Path and file name of plot saved as image. If want to save in current path just pass in the file name.\n",
      "            This argument is optional and it will have a None value attributed inside the function.\n",
      "    \n",
      "        show_plot (:obj:`bool`, `optional`, defaults to :obj:`1`):\n",
      "            if you want to call `plt.show()`. or not (if you run on a headless server). This argument is optional and\n",
      "            it has a default value attributed inside the function.\n",
      "    \n",
      "    Raises:\n",
      "    \n",
      "        ValueError: If `dict_arrays` is not of type `dictionary`.\n",
      "    \n",
      "        ValueError: If `dict_arrays` doesn't have string keys.\n",
      "    \n",
      "        ValueError: If `dict_arrays` doesn't have array values.\n",
      "    \n",
      "        ValueError: If `style_sheet` is not valid.\n",
      "    \n",
      "        ValueError: If `use_linestyle` is not valid.\n",
      "    \n",
      "        ValueError: If `points_values`of type list don't have same length as `dict_arrays`.\n",
      "    \n",
      "        DeprecationWarning: If `magnify` is se to values that don't belong to [0, 1] values.\n",
      "    \n",
      "        ValueError: If `font_size` is not `None` and smaller or equal to 0.\n",
      "\n"
     ]
    }
   ],
   "source": [
    "help(plot_dict)"
   ]
  },
  {
   "cell_type": "code",
   "execution_count": 15,
   "metadata": {},
   "outputs": [
    {
     "name": "stderr",
     "output_type": "stream",
     "text": [
      "100%|██████████| 8/8 [00:02<00:00,  3.36it/s]\n"
     ]
    },
    {
     "name": "stdout",
     "output_type": "stream",
     "text": [
      "Evaluation Report:\n",
      "              precision    recall  f1-score   support\n",
      "\n",
      "       Alive       0.92      0.70      0.80       104\n",
      "        Dead       0.21      0.57      0.30        14\n",
      "\n",
      "    accuracy                           0.69       118\n",
      "   macro avg       0.56      0.64      0.55       118\n",
      "weighted avg       0.84      0.69      0.74       118\n",
      "\n",
      "\n",
      "ROC AUC Score: 0.6627747252747253\n",
      "\n",
      "True Positives: 8\n",
      "True Negatives: 73\n",
      "False Positives: 31\n",
      "False Negatives: 6\n",
      "Normalized confusion matrix\n"
     ]
    },
    {
     "data": {
      "image/png": "[encoded data removed]",
      "text/plain": [
       "<Figure size 2880x720 with 2 Axes>"
      ]
     },
     "metadata": {},
     "output_type": "display_data"
    },
    {
     "data": {
      "text/plain": [
       "array([[0.70192308, 0.29807692],\n",
       "       [0.42857143, 0.57142857]])"
      ]
     },
     "execution_count": 15,
     "metadata": {},
     "output_type": "execute_result"
    }
   ],
   "source": [
    "import numpy as np\n",
    "from sklearn.metrics import classification_report, roc_auc_score, confusion_matrix\n",
    "\n",
    "# Get prediction from model on validation data.\n",
    "true_labels, predictions_labels, predict_probs, avg_epoch_loss = validation(test_dataloader, device)\n",
    "\n",
    "# Convert predict_probs to a NumPy array\n",
    "predict_probs = np.array(predict_probs)\n",
    "\n",
    "# Calculate ROC AUC score\n",
    "roc_auc = roc_auc_score(true_labels, predict_probs[:, 1])  # Assuming the second column contains probabilities for the positive class.\n",
    "\n",
    "# Calculate true positives, true negatives, false positives, false negatives\n",
    "tn, fp, fn, tp = confusion_matrix(true_labels, predictions_labels).ravel()\n",
    "\n",
    "# Create the evaluation report.\n",
    "evaluation_report = classification_report(true_labels, predictions_labels, labels=list(labels_ids.values()), target_names=list(labels_ids.keys()))\n",
    "\n",
    "# Show the evaluation report, ROC AUC score, and other metrics.\n",
    "print(\"Evaluation Report:\")\n",
    "print(evaluation_report)\n",
    "print(\"\\nROC AUC Score:\", roc_auc)\n",
    "print(\"\\nTrue Positives:\", tp)\n",
    "print(\"True Negatives:\", tn)\n",
    "print(\"False Positives:\", fp)\n",
    "print(\"False Negatives:\", fn)\n",
    "\n",
    "# Plot confusion matrix.\n",
    "plot_confusion_matrix(y_true=true_labels, y_pred=predictions_labels, \n",
    "                      classes=list(labels_ids.keys()), normalize=True, \n",
    "                      magnify=0.1)\n"
   ]
  },
  {
   "cell_type": "code",
   "execution_count": 16,
   "metadata": {},
   "outputs": [
    {
     "name": "stdout",
     "output_type": "stream",
     "text": [
      "Help on function plot_confusion_matrix in module ml_things.plot_functions:\n",
      "\n",
      "plot_confusion_matrix(y_true, y_pred, use_title=None, classes='', normalize=False, style_sheet='ggplot', cmap=<matplotlib.colors.LinearSegmentedColormap object at 0x7f46eeef5cf0>, font_size=None, verbose=0, width=3, height=1, magnify=0.1, use_dpi=50, path=None, show_plot=True, **kwargs)\n",
      "    This function prints and plots the confusion matrix.\n",
      "    \n",
      "    Normalization can be applied by setting `normalize=True`.\n",
      "    \n",
      "    Arguments:\n",
      "    \n",
      "        y_true (:obj:`list / np.ndarray`):\n",
      "            List of labels values.\n",
      "    \n",
      "        y_pred (:obj:`list / np.ndarray`):\n",
      "            List of predicted label values.\n",
      "    \n",
      "        use_title (:obj:`int`, `optional`):\n",
      "            Title on top of plot. This argument is optional and it will have a `None` value attributed\n",
      "            inside the function.\n",
      "    \n",
      "        classes (:obj:`str`, `optional`, defaults to :obj:``):\n",
      "            List of label names. This argument is optional and it has a default value attributed\n",
      "            inside the function.\n",
      "    \n",
      "        normalize (:obj:`bool`, `optional`, defaults to :obj:`False`):\n",
      "            Normalize confusion matrix or not. This argument is optional and it has a default value attributed\n",
      "            inside the function.\n",
      "    \n",
      "        style_sheet (:obj:`str`, `optional`, defaults to :obj:`ggplot`):\n",
      "            Style of plot. Use plt.style.available to show all styles. This argument is optional and it has a default\n",
      "            value attributed inside the function.\n",
      "    \n",
      "        cmap (:obj:`str`, `optional`, defaults to :obj:`plt.cm.Blues`):\n",
      "            It is a plt.cm plot theme. Plot themes: `plt.cm.Blues`, `plt.cm.BuPu`, `plt.cm.GnBu`, `plt.cm.Greens`,\n",
      "            `plt.cm.OrRd`. This argument is optional and it has a default value attributed inside the function.\n",
      "    \n",
      "        font_size (:obj:`int` or `float`, `optional`):\n",
      "            Font size to use across the plot. By default this function will adjust font size depending on `magnify`\n",
      "            value. If this value is set, it will ignore the `magnify` recommended font size. The title font size is by\n",
      "            default `1.8` greater than font-size. This argument is optional and it will have a `None` value attributed\n",
      "            inside the function.\n",
      "    \n",
      "        verbose (:obj:`int`, `optional`, defaults to :obj:`0`):\n",
      "            To display confusion matrix value or not if set > 0. This argument is optional and it has a default\n",
      "            value attributed inside the function.\n",
      "    \n",
      "        width (:obj:`int`, `optional`, defaults to :obj:`3`):\n",
      "            Horizontal length of plot. This argument is optional and it has a default value attributed inside\n",
      "            the function.\n",
      "    \n",
      "        height (:obj:`int`, `optional`, defaults to :obj:`1`):\n",
      "            Height length of plot in inches. This argument is optional and it has a default value attributed inside\n",
      "            the function.\n",
      "    \n",
      "        magnify (:obj:`float`, `optional`, defaults to :obj:`0.1`):\n",
      "            Ratio increase of both with and height keeping the same ratio size. This argument is optional and it has a\n",
      "            default value attributed inside the function.\n",
      "    \n",
      "        use_dpi (:obj:`int`, `optional`, defaults to :obj:`50`):\n",
      "            Print resolution is measured in dots per inch (or “DPI”). This argument is optional and it has a default\n",
      "            value attributed inside the function.\n",
      "    \n",
      "        path (:obj:`str`, `optional`):\n",
      "            Path and file name of plot saved as image. If want to save in current path just pass in the file name.\n",
      "            This argument is optional and it will have a None value attributed inside the function.\n",
      "    \n",
      "        show_plot (:obj:`bool`, `optional`, defaults to :obj:`1`):\n",
      "            if you want to call `plt.show()`. or not (if you run on a headless server). This argument is optional and\n",
      "            it has a default value attributed inside the function.\n",
      "    \n",
      "        kwargs (:obj:`dict`, `optional`):\n",
      "            Other arguments that might be deprecated or not included as details. This argument is optional and it will\n",
      "            have a `None` value attributed inside the function.\n",
      "    \n",
      "    Returns:\n",
      "    \n",
      "        :obj:`np.ndarray`: Confusion matrix used to plot.\n",
      "    \n",
      "    Raises:\n",
      "    \n",
      "        DeprecationWarning: If arguments `title` is used.\n",
      "    \n",
      "        DeprecationWarning: If arguments `image` is used.\n",
      "    \n",
      "        DeprecationWarning: If arguments `dpi` is used.\n",
      "    \n",
      "        ValueError: If `y_true` and `y_pred` arrays don't have same length.\n",
      "    \n",
      "        ValueError: If `dict_arrays` doesn't have string keys.\n",
      "    \n",
      "        ValueError: If `dict_arrays` doesn't have array values.\n",
      "    \n",
      "        ValueError: If `style_sheet` is not valid.\n",
      "    \n",
      "        DeprecationWarning: If `magnify` is se to values that don't belong to [0, 1] values.\n",
      "    \n",
      "        ValueError: If `font_size` is not `None` and smaller or equal to 0.\n",
      "\n"
     ]
    }
   ],
   "source": [
    "help(plot_confusion_matrix)"
   ]
  },
  {
   "cell_type": "code",
   "execution_count": 17,
   "metadata": {},
   "outputs": [
    {
     "name": "stdout",
     "output_type": "stream",
     "text": [
      "Accuracy: 0.6864406779661016\n",
      "Precision: 0.20512820512820512\n",
      "Recall: 0.5714285714285714\n",
      "F1 Score: 0.3018867924528302\n"
     ]
    }
   ],
   "source": [
    "def calculate_metrics(TP, TN, FP, FN):\n",
    "    # Accuracy\n",
    "    accuracy = (TP + TN) / (TP + TN + FP + FN)\n",
    "    \n",
    "    # Precision\n",
    "    precision = TP / (TP + FP)\n",
    "    \n",
    "    # Recall (Sensitivity)\n",
    "    recall = TP / (TP + FN)\n",
    "    \n",
    "    # F1 Score\n",
    "    f1_score = 2 * (precision * recall) / (precision + recall)\n",
    "    \n",
    "    return accuracy, precision, recall, f1_score\n",
    "\n",
    "accuracy, precision, recall, f1_score = calculate_metrics(tp, tn, fp, fn)\n",
    "\n",
    "# Print results\n",
    "print(\"Accuracy:\", accuracy)\n",
    "print(\"Precision:\", precision)\n",
    "print(\"Recall:\", recall)\n",
    "print(\"F1 Score:\", f1_score)"
   ]
  },
  {
   "cell_type": "code",
   "execution_count": 18,
   "metadata": {},
   "outputs": [
    {
     "name": "stderr",
     "output_type": "stream",
     "text": [
      "100%|██████████| 8/8 [00:02<00:00,  3.47it/s]\n"
     ]
    },
    {
     "name": "stdout",
     "output_type": "stream",
     "text": [
      "Evaluation Report:\n",
      "              precision    recall  f1-score   support\n",
      "\n",
      "       Alive       0.92      0.69      0.79        97\n",
      "        Dead       0.33      0.71      0.45        21\n",
      "\n",
      "    accuracy                           0.69       118\n",
      "   macro avg       0.63      0.70      0.62       118\n",
      "weighted avg       0.81      0.69      0.73       118\n",
      "\n",
      "\n",
      "ROC AUC Score: 0.7275405007363771\n",
      "\n",
      "True Positives: 15\n",
      "True Negatives: 67\n",
      "False Positives: 30\n",
      "False Negatives: 6\n",
      "Normalized confusion matrix\n"
     ]
    },
    {
     "data": {
      "image/png": "[encoded data removed]",
      "text/plain": [
       "<Figure size 2880x720 with 2 Axes>"
      ]
     },
     "metadata": {},
     "output_type": "display_data"
    },
    {
     "data": {
      "text/plain": [
       "array([[0.69072165, 0.30927835],\n",
       "       [0.28571429, 0.71428571]])"
      ]
     },
     "execution_count": 18,
     "metadata": {},
     "output_type": "execute_result"
    }
   ],
   "source": [
    "import numpy as np\n",
    "from sklearn.metrics import classification_report, roc_auc_score, confusion_matrix\n",
    "\n",
    "# Get prediction from model on validation data.\n",
    "true_labels, predictions_labels, predict_probs, avg_epoch_loss = validation(valid_dataloader, device)\n",
    "\n",
    "# Convert predict_probs to a NumPy array\n",
    "predict_probs = np.array(predict_probs)\n",
    "\n",
    "# Calculate ROC AUC score\n",
    "roc_auc = roc_auc_score(true_labels, predict_probs[:, 1])  # Assuming the second column contains probabilities for the positive class.\n",
    "\n",
    "# Calculate true positives, true negatives, false positives, false negatives\n",
    "tn, fp, fn, tp = confusion_matrix(true_labels, predictions_labels).ravel()\n",
    "\n",
    "# Create the evaluation report.\n",
    "evaluation_report = classification_report(true_labels, predictions_labels, labels=list(labels_ids.values()), target_names=list(labels_ids.keys()))\n",
    "\n",
    "# Show the evaluation report, ROC AUC score, and other metrics.\n",
    "print(\"Evaluation Report:\")\n",
    "print(evaluation_report)\n",
    "print(\"\\nROC AUC Score:\", roc_auc)\n",
    "print(\"\\nTrue Positives:\", tp)\n",
    "print(\"True Negatives:\", tn)\n",
    "print(\"False Positives:\", fp)\n",
    "print(\"False Negatives:\", fn)\n",
    "\n",
    "# Plot confusion matrix.\n",
    "plot_confusion_matrix(y_true=true_labels, y_pred=predictions_labels, \n",
    "                      classes=list(labels_ids.keys()), normalize=True, \n",
    "                      magnify=0.1)\n"
   ]
  },
  {
   "cell_type": "code",
   "execution_count": 19,
   "metadata": {},
   "outputs": [
    {
     "name": "stdout",
     "output_type": "stream",
     "text": [
      "Accuracy: 0.6949152542372882\n",
      "Precision: 0.3333333333333333\n",
      "Recall: 0.7142857142857143\n",
      "F1 Score: 0.4545454545454545\n"
     ]
    }
   ],
   "source": [
    "def calculate_metrics(TP, TN, FP, FN):\n",
    "    # Accuracy\n",
    "    accuracy = (TP + TN) / (TP + TN + FP + FN)\n",
    "    \n",
    "    # Precision\n",
    "    precision = TP / (TP + FP)\n",
    "    \n",
    "    # Recall (Sensitivity)\n",
    "    recall = TP / (TP + FN)\n",
    "    \n",
    "    # F1 Score\n",
    "    f1_score = 2 * (precision * recall) / (precision + recall)\n",
    "    \n",
    "    return accuracy, precision, recall, f1_score\n",
    "\n",
    "accuracy, precision, recall, f1_score = calculate_metrics(tp, tn, fp, fn)\n",
    "\n",
    "# Print results\n",
    "print(\"Accuracy:\", accuracy)\n",
    "print(\"Precision:\", precision)\n",
    "print(\"Recall:\", recall)\n",
    "print(\"F1 Score:\", f1_score)"
   ]
  },
  {
   "cell_type": "code",
   "execution_count": 20,
   "metadata": {},
   "outputs": [
    {
     "name": "stdout",
     "output_type": "stream",
     "text": [
      "Model and tokenizer saved successfully.\n"
     ]
    }
   ],
   "source": [
    "# Save the model and tokenizer to a directory\n",
    "output_dir = \"saved_model/GPT2/\"\n",
    "os.makedirs(output_dir, exist_ok=True)\n",
    "\n",
    "# Save the model\n",
    "model.save_pretrained(output_dir)\n",
    "\n",
    "# Save the tokenizer\n",
    "tokenizer.save_pretrained(output_dir)\n",
    "\n",
    "print(\"Model and tokenizer saved successfully.\")\n"
   ]
  },
  {
   "cell_type": "code",
   "execution_count": null,
   "metadata": {},
   "outputs": [],
   "source": [
    "output_dir = \"saved_model/GPT2/\""
   ]
  },
  {
   "cell_type": "code",
   "execution_count": null,
   "metadata": {},
   "outputs": [],
   "source": [
    "from transformers import GPT2ForSequenceClassification, GPT2Tokenizer\n",
    "\n",
    "# Load the tokenizer\n",
    "tokenizer = GPT2Tokenizer.from_pretrained(output_dir)\n",
    "\n",
    "# Load the model\n",
    "model = GPT2ForSequenceClassification.from_pretrained(output_dir).to(device)\n",
    "\n",
    "print(\"Model and tokenizer loaded successfully.\")\n"
   ]
  },
  {
   "cell_type": "code",
   "execution_count": null,
   "metadata": {},
   "outputs": [],
   "source": []
  }
 ],
 "metadata": {
  "kernelspec": {
   "display_name": ".gpt2",
   "language": "python",
   "name": "python3"
  },
  "language_info": {
   "codemirror_mode": {
    "name": "ipython",
    "version": 3
   },
   "file_extension": ".py",
   "mimetype": "text/x-python",
   "name": "python",
   "nbconvert_exporter": "python",
   "pygments_lexer": "ipython3",
   "version": "3.10.14"
  }
 },
 "nbformat": 4,
 "nbformat_minor": 2
}
